{
 "metadata": {
  "name": "",
  "signature": "sha256:dbe577327fd8e24609a4b68a95f688e7e3ab9f1f1c9b92844ec58886a5ada5b6"
 },
 "nbformat": 3,
 "nbformat_minor": 0,
 "worksheets": [
  {
   "cells": [
    {
     "cell_type": "markdown",
     "metadata": {},
     "source": [
      "<h1> `Ast009`</h1>\n",
      "<h2> How does my work compare to Catarina, Brice\u00f1o, SONYC, Riaz, etc:</h2>\n",
      "<h3 align='center'> Catarina Alves de Oliveira et al. 2013 </h3>"
     ]
    },
    {
     "cell_type": "code",
     "collapsed": false,
     "input": [],
     "language": "python",
     "metadata": {},
     "outputs": []
    }
   ],
   "metadata": {}
  }
 ]
}