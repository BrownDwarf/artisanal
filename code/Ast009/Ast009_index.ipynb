{
 "metadata": {
  "name": "",
  "signature": "sha256:3aa29161693b780b734b082da7dc2c11828fef6c9e6c867cace883d139de73e8"
 },
 "nbformat": 3,
 "nbformat_minor": 0,
 "worksheets": [
  {
   "cells": [
    {
     "cell_type": "heading",
     "level": 1,
     "metadata": {},
     "source": [
      "`Ast009` \n",
      "<h2>*How does my work compare to Catarina, Brice\u00f1o, SONYC, Riaz, etc.*</h2>"
     ]
    },
    {
     "cell_type": "markdown",
     "metadata": {},
     "source": [
      "<h3>The problem</h3>\n",
      "I don\u2019t have a deep-down feeling for how my surveys compare to the numbers coming out of Catarina, Brice\u00f1o, SONYC, Riaz, and other studies.  For example, would I have selected their sources?  Which photometric data are we lacking to answer that question?  z-band?  Is their data publicly available and accessible so that I can use their data as comparison sources?  What about the mid-IR data?  Do they have any data analysis strategies that are interesting to apply to my samples?\n",
      "\n",
      "<h3>Proposed solution</h3>\n",
      "Review the papers by these authors with specific focus on where their strategies and data relate to mine.  Compare directly the photometric depths on the same scale.  Generate their figures with their data from tables or digitized plots, overplot my values when applicable.  Interpret their data independently, and assess the reality of their claims (especially Riaz?).  When newer data exists for Spitzer, or WISE, or whatever, download it and compare to their older data.\n",
      "\n",
      "<h3>Direct benefits</h3>\n",
      "\n",
      "+  Put my data into context of the global community.\n",
      "\n",
      "<h3>Indirect benefits</h3>\n",
      "\n",
      "+  High discovery potential\n",
      "+  Uncertain outcomes- could lead to new methods/strategy\n",
      "+  Better discussion with international colleagues at conferences\n",
      "+  Build skills in data mining\n",
      "+  Leverage outside data\n",
      "\n"
     ]
    },
    {
     "cell_type": "markdown",
     "metadata": {},
     "source": [
      "<h2>Index</h2>"
     ]
    },
    {
     "cell_type": "markdown",
     "metadata": {},
     "source": [
      "* [Alves de Oliveira et al. 2012](Ast009_AdeO2013.ipynb)\n",
      "* [Dupuy & Liu 2012](Ast009_DupuyLiu2012.ipynb)\n",
      "* SONYC\n"
     ]
    },
    {
     "cell_type": "code",
     "collapsed": false,
     "input": [],
     "language": "python",
     "metadata": {},
     "outputs": []
    }
   ],
   "metadata": {}
  }
 ]
}