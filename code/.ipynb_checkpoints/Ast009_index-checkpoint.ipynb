{
 "metadata": {
  "name": "",
  "signature": "sha256:f34a737b3d139befef81f7da2ab9a092917781938da46339cff1dd71a6ddbe33"
 },
 "nbformat": 3,
 "nbformat_minor": 0,
 "worksheets": []
}